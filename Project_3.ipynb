{
  "nbformat": 4,
  "nbformat_minor": 0,
  "metadata": {
    "colab": {
      "provenance": [],
      "mount_file_id": "1-u_cQtoJX0iKxWRoqrJ6L6l0PU9ipzNb",
      "authorship_tag": "ABX9TyNWZgj11yq2yWTe+6sQtpJi",
      "include_colab_link": true
    },
    "kernelspec": {
      "name": "python3",
      "display_name": "Python 3"
    },
    "language_info": {
      "name": "python"
    }
  },
  "cells": [
    {
      "cell_type": "markdown",
      "metadata": {
        "id": "view-in-github",
        "colab_type": "text"
      },
      "source": [
        "<a href=\"https://colab.research.google.com/github/patrickhuang5/project-3-cis-2100/blob/main/Project_3.ipynb\" target=\"_parent\"><img src=\"https://colab.research.google.com/assets/colab-badge.svg\" alt=\"Open In Colab\"/></a>"
      ]
    },
    {
      "cell_type": "markdown",
      "source": [
        "1. Import Required Libraries\n",
        "- Imports necessary libraries for data manipulation, random data generation, and market basket analysis."
      ],
      "metadata": {
        "id": "uFf3bLwpjOg4"
      }
    },
    {
      "cell_type": "code",
      "source": [
        "# Project Analysis Notebook\n",
        "# Goal: Identify the best-selling items for each store and across the entire organization\n",
        "\n",
        "# Step 1: Import Required Libraries\n",
        "import pandas as pd\n",
        "import numpy as np\n",
        "import random\n",
        "from itertools import combinations\n",
        "from collections import Counter"
      ],
      "metadata": {
        "colab": {
          "base_uri": "https://localhost:8080/"
        },
        "id": "ALVL5Ss1jExs",
        "outputId": "443e9a41-a2a3-489f-9aaa-775e30a2716d"
      },
      "execution_count": 20,
      "outputs": [
        {
          "output_type": "stream",
          "name": "stderr",
          "text": [
            "/usr/local/lib/python3.10/dist-packages/ipykernel/ipkernel.py:283: DeprecationWarning: `should_run_async` will not call `transform_cell` automatically in the future. Please pass the result to `transformed_cell` argument and any exception that happen during thetransform in `preprocessing_exc_tuple` in IPython 7.17 and above.\n",
            "  and should_run_async(code)\n"
          ]
        }
      ]
    },
    {
      "cell_type": "markdown",
      "source": [
        "2. Define Goals"
      ],
      "metadata": {
        "id": "MzKdkkObjXYS"
      }
    },
    {
      "cell_type": "code",
      "source": [
        "# Step 2: Define Goals\n",
        "# \"The objective of this analysis is to determine the best-selling items for each store and across the organization.\n",
        "# Using market basket analysis, we will analyze customer baskets to discover the most frequently purchased sets of\n",
        "# items. The results will provide valuable insights into customer purchasing patterns for better inventory management\n",
        "# and strategic planning.\""
      ],
      "metadata": {
        "colab": {
          "base_uri": "https://localhost:8080/"
        },
        "id": "ayMF1R_cjWbQ",
        "outputId": "8132484f-a4c5-4ea5-d7bd-7b4162ebdcff"
      },
      "execution_count": 21,
      "outputs": [
        {
          "output_type": "stream",
          "name": "stderr",
          "text": [
            "/usr/local/lib/python3.10/dist-packages/ipykernel/ipkernel.py:283: DeprecationWarning: `should_run_async` will not call `transform_cell` automatically in the future. Please pass the result to `transformed_cell` argument and any exception that happen during thetransform in `preprocessing_exc_tuple` in IPython 7.17 and above.\n",
            "  and should_run_async(code)\n"
          ]
        }
      ]
    },
    {
      "cell_type": "markdown",
      "source": [
        "3. Generate Synthetic Data\n",
        "- Defines a function to generate synthetic transactional data for analysis, including random transactions, store names, and product names."
      ],
      "metadata": {
        "id": "_byXUgUQjd58"
      }
    },
    {
      "cell_type": "code",
      "source": [
        "# Step 3: Generate Synthetic Data\n",
        "def generate_synthetic_data(filepath=\"synthetic_project2_data.csv\"):\n",
        "    \"\"\"\n",
        "    Generate synthetic transactional data for analysis.\n",
        "    \"\"\"\n",
        "    num_transactions = 2000\n",
        "    transaction_ids = [f\"T{i}\" for i in range(1, num_transactions + 1)]\n",
        "    store_names = [f\"Store_{i}\" for i in range(1, 11)]  # 10 stores\n",
        "    product_names = [f\"Product_{chr(65+i)}\" for i in range(10)]  # Products A-J\n",
        "\n",
        "    synthetic_data = {\n",
        "        \"transaction_id\": random.choices(transaction_ids, k=num_transactions),\n",
        "        \"store_name\": random.choices(store_names, k=num_transactions),\n",
        "        \"product_name\": random.choices(product_names, k=num_transactions),\n",
        "    }\n",
        "\n",
        "    df = pd.DataFrame(synthetic_data)\n",
        "    print(\"Synthetic data generated.\")\n",
        "    return df"
      ],
      "metadata": {
        "colab": {
          "base_uri": "https://localhost:8080/"
        },
        "id": "uyNdHWySjclX",
        "outputId": "096dc93e-1116-4579-976b-53a1ccba2c71"
      },
      "execution_count": 22,
      "outputs": [
        {
          "output_type": "stream",
          "name": "stderr",
          "text": [
            "/usr/local/lib/python3.10/dist-packages/ipykernel/ipkernel.py:283: DeprecationWarning: `should_run_async` will not call `transform_cell` automatically in the future. Please pass the result to `transformed_cell` argument and any exception that happen during thetransform in `preprocessing_exc_tuple` in IPython 7.17 and above.\n",
            "  and should_run_async(code)\n"
          ]
        }
      ]
    },
    {
      "cell_type": "markdown",
      "source": [
        "4. Perform Market Basket Analysis\n",
        "- Description: Defines a function to perform market basket analysis and identify frequent item pairs based on their support in the data."
      ],
      "metadata": {
        "id": "k54F4T39jldA"
      }
    },
    {
      "cell_type": "code",
      "source": [
        "# Step 4: Perform Market Basket Analysis\n",
        "def frequent_itemsets(dataframe, min_support=0.01):\n",
        "    \"\"\"\n",
        "    Find frequent itemsets across transactions using combinations.\n",
        "    \"\"\"\n",
        "    transactions = dataframe.groupby('transaction_id')['product_name'].apply(list).tolist()\n",
        "\n",
        "    # Generate itemsets\n",
        "    itemsets = []\n",
        "    for transaction in transactions:\n",
        "        itemsets.extend(combinations(transaction, 2))  # Pairwise combinations\n",
        "\n",
        "    # Count itemsets\n",
        "    itemset_counts = Counter(itemsets)\n",
        "\n",
        "    # Calculate support\n",
        "    total_transactions = len(transactions)\n",
        "    frequent_itemsets = {itemset: count/total_transactions for itemset, count in itemset_counts.items() if count/total_transactions >= min_support}\n",
        "\n",
        "    # Sort by support\n",
        "    sorted_frequent_itemsets = dict(sorted(frequent_itemsets.items(), key=lambda x: x[1], reverse=True))\n",
        "\n",
        "    return sorted_frequent_itemsets"
      ],
      "metadata": {
        "colab": {
          "base_uri": "https://localhost:8080/"
        },
        "id": "nFU85_vKjkzP",
        "outputId": "067aae39-dd80-4f52-e352-b99d70914ba9"
      },
      "execution_count": 23,
      "outputs": [
        {
          "output_type": "stream",
          "name": "stderr",
          "text": [
            "/usr/local/lib/python3.10/dist-packages/ipykernel/ipkernel.py:283: DeprecationWarning: `should_run_async` will not call `transform_cell` automatically in the future. Please pass the result to `transformed_cell` argument and any exception that happen during thetransform in `preprocessing_exc_tuple` in IPython 7.17 and above.\n",
            "  and should_run_async(code)\n"
          ]
        }
      ]
    },
    {
      "cell_type": "markdown",
      "source": [
        "5. Store-wise and Organization-wide Analysis\n",
        "- Defines a function to perform market basket analysis for each store and overall across the organization."
      ],
      "metadata": {
        "id": "QlF_-5Vojswi"
      }
    },
    {
      "cell_type": "code",
      "source": [
        "# Step 5: Store-wise and Organization-wide Analysis\n",
        "def store_wise_analysis(dataframe):\n",
        "    \"\"\"\n",
        "    Perform market basket analysis for each store and across the organization.\n",
        "    \"\"\"\n",
        "    stores = dataframe['store_name'].unique()\n",
        "    store_frequent_itemsets = {}\n",
        "\n",
        "    for store in stores:\n",
        "        store_data = dataframe[dataframe['store_name'] == store]\n",
        "        store_frequent_itemsets[store] = frequent_itemsets(store_data)\n",
        "\n",
        "    overall_frequent_itemsets = frequent_itemsets(dataframe)\n",
        "    return store_frequent_itemsets, overall_frequent_itemsets"
      ],
      "metadata": {
        "colab": {
          "base_uri": "https://localhost:8080/"
        },
        "id": "cKwwk7cojrC4",
        "outputId": "af151abf-f897-4a21-f6c3-bc4d1e8eaa17"
      },
      "execution_count": 24,
      "outputs": [
        {
          "output_type": "stream",
          "name": "stderr",
          "text": [
            "/usr/local/lib/python3.10/dist-packages/ipykernel/ipkernel.py:283: DeprecationWarning: `should_run_async` will not call `transform_cell` automatically in the future. Please pass the result to `transformed_cell` argument and any exception that happen during thetransform in `preprocessing_exc_tuple` in IPython 7.17 and above.\n",
            "  and should_run_async(code)\n"
          ]
        }
      ]
    },
    {
      "cell_type": "markdown",
      "source": [
        "6. Convert Analysis Results to Table\n",
        "- Converts the results of the market basket analysis into a DataFrame for easy viewing and further analysis."
      ],
      "metadata": {
        "id": "yHfwwrhrjzDc"
      }
    },
    {
      "cell_type": "code",
      "source": [
        "# Step 6: Convert Analysis Results to Table\n",
        "def frequent_itemsets_to_table(store_frequent_itemsets, overall_frequent_itemsets):\n",
        "    \"\"\"\n",
        "    Convert frequent itemsets for stores and organization into a DataFrame.\n",
        "    \"\"\"\n",
        "    itemset_data = []\n",
        "\n",
        "    for store, itemsets in store_frequent_itemsets.items():\n",
        "        for itemset, support in itemsets.items():\n",
        "            itemset_data.append({\n",
        "                'Store': store,\n",
        "                'Itemset': ' & '.join(itemset),\n",
        "                'Support': support\n",
        "            })\n",
        "\n",
        "    for itemset, support in overall_frequent_itemsets.items():\n",
        "        itemset_data.append({\n",
        "            'Store': 'All Stores',\n",
        "            'Itemset': ' & '.join(itemset),\n",
        "            'Support': support\n",
        "        })\n",
        "\n",
        "    itemset_df = pd.DataFrame(itemset_data)\n",
        "    return itemset_df"
      ],
      "metadata": {
        "colab": {
          "base_uri": "https://localhost:8080/"
        },
        "id": "IQGQwhEzjyX-",
        "outputId": "05125645-6381-4f64-ec2b-fced2729e8ff"
      },
      "execution_count": 25,
      "outputs": [
        {
          "output_type": "stream",
          "name": "stderr",
          "text": [
            "/usr/local/lib/python3.10/dist-packages/ipykernel/ipkernel.py:283: DeprecationWarning: `should_run_async` will not call `transform_cell` automatically in the future. Please pass the result to `transformed_cell` argument and any exception that happen during thetransform in `preprocessing_exc_tuple` in IPython 7.17 and above.\n",
            "  and should_run_async(code)\n"
          ]
        }
      ]
    },
    {
      "cell_type": "markdown",
      "source": [
        "7. Main Execution\n",
        "- Main code execution block that generates synthetic data, performs the analysis, converts results into a table, and displays them."
      ],
      "metadata": {
        "id": "uTj4474qj5nJ"
      }
    },
    {
      "cell_type": "code",
      "source": [
        "# Step 7: Main Execution\n",
        "if __name__ == \"__main__\":\n",
        "    # Generate synthetic data\n",
        "    df = generate_synthetic_data()\n",
        "\n",
        "    # Perform analysis\n",
        "    store_frequent_itemsets, overall_frequent_itemsets = store_wise_analysis(df)\n",
        "\n",
        "    # Convert results to table\n",
        "    itemset_table = frequent_itemsets_to_table(store_frequent_itemsets, overall_frequent_itemsets)\n",
        "\n",
        "    # Display results\n",
        "    print(\"\\nBest-Selling Itemsets by Store and Across the Organization:\")\n",
        "    print(itemset_table)"
      ],
      "metadata": {
        "colab": {
          "base_uri": "https://localhost:8080/"
        },
        "id": "ne2yURNBi_v9",
        "outputId": "4f3338d1-32e5-4e13-c804-1cd96904b3ad"
      },
      "execution_count": 26,
      "outputs": [
        {
          "output_type": "stream",
          "name": "stdout",
          "text": [
            "Synthetic data generated.\n",
            "\n",
            "Best-Selling Itemsets by Store and Across the Organization:\n",
            "         Store                Itemset   Support\n",
            "0      Store_1  Product_B & Product_D  0.010811\n",
            "1      Store_1  Product_E & Product_I  0.010811\n",
            "2      Store_6  Product_B & Product_J  0.010363\n",
            "3      Store_6  Product_E & Product_I  0.010363\n",
            "4   All Stores  Product_E & Product_A  0.015576\n",
            "5   All Stores  Product_H & Product_F  0.014798\n",
            "6   All Stores  Product_D & Product_A  0.013240\n",
            "7   All Stores  Product_D & Product_J  0.013240\n",
            "8   All Stores  Product_A & Product_J  0.011682\n",
            "9   All Stores  Product_B & Product_H  0.011682\n",
            "10  All Stores  Product_E & Product_D  0.011682\n",
            "11  All Stores  Product_J & Product_A  0.011682\n",
            "12  All Stores  Product_J & Product_E  0.011682\n",
            "13  All Stores  Product_G & Product_J  0.010903\n",
            "14  All Stores  Product_E & Product_I  0.010903\n",
            "15  All Stores  Product_B & Product_J  0.010903\n",
            "16  All Stores  Product_J & Product_H  0.010125\n",
            "17  All Stores  Product_I & Product_D  0.010125\n",
            "18  All Stores  Product_E & Product_E  0.010125\n",
            "19  All Stores  Product_I & Product_I  0.010125\n",
            "20  All Stores  Product_B & Product_C  0.010125\n",
            "21  All Stores  Product_C & Product_A  0.010125\n"
          ]
        },
        {
          "output_type": "stream",
          "name": "stderr",
          "text": [
            "/usr/local/lib/python3.10/dist-packages/ipykernel/ipkernel.py:283: DeprecationWarning: `should_run_async` will not call `transform_cell` automatically in the future. Please pass the result to `transformed_cell` argument and any exception that happen during thetransform in `preprocessing_exc_tuple` in IPython 7.17 and above.\n",
            "  and should_run_async(code)\n"
          ]
        }
      ]
    }
  ]
}